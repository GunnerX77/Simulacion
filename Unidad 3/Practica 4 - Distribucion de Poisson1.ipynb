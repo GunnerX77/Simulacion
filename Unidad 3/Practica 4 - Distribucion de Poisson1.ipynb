{
  "nbformat": 4,
  "nbformat_minor": 0,
  "metadata": {
    "colab": {
      "provenance": []
    },
    "kernelspec": {
      "name": "python3",
      "display_name": "Python 3"
    },
    "language_info": {
      "name": "python"
    }
  },
  "cells": [
    {
      "cell_type": "code",
      "execution_count": null,
      "metadata": {
        "id": "X1DFy6qWMqcv"
      },
      "outputs": [],
      "source": [
        "#Distribucion Poisson - Ejemplo 1\n",
        "import numpy as np\n",
        "import matplotlib.pyplot as plt\n",
        "\n",
        "# Parámetro de la distribución Poisson (media de la demanda diaria)\n",
        "lambda_poisson = 5  # Por ejemplo, 5 teléfonos móviles por día\n",
        "\n",
        "# Generar una variable aleatoria uniforme U ~ Uniform(0, 1)\n",
        "n = 100  # Número de simulaciones\n",
        "U = np.random.uniform(0, 1, n)\n",
        "\n",
        "# Aplicar la transformada inversa para la distribución Poisson\n",
        "def poisson_inverse_transform(lambda_poisson, U):\n",
        "    k = 0\n",
        "    F_k = np.exp(-lambda_poisson)  # Primera probabilidad acumulada (k=0)\n",
        "    while U > F_k:\n",
        "        k += 1\n",
        "        F_k += (lambda_poisson**k * np.exp(-lambda_poisson)) / np.math.factorial(k)\n",
        "    return k\n",
        "\n",
        "# Generar demanda simulada usando transformada inversa\n",
        "demanda_simulada = [poisson_inverse_transform(lambda_poisson, u) for u in U]\n",
        "\n",
        "# Mostrar los resultados\n",
        "print(\"Demanda diaria simulada:\", demanda_simulada)\n",
        "\n",
        "# Graficar histograma de la demanda simulada\n",
        "plt.hist(demanda_simulada, bins=np.arange(0, max(demanda_simulada) + 1) - 0.5, edgecolor='black', density=True)\n",
        "plt.title(\"Simulación de demanda diaria (Distribución Poisson)\")\n",
        "plt.xlabel(\"Número de productos demandados\")\n",
        "plt.ylabel(\"Frecuencia\")\n",
        "plt.show()"
      ]
    }
  ]
}