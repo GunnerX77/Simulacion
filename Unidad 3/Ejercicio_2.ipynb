{
  "nbformat": 4,
  "nbformat_minor": 0,
  "metadata": {
    "colab": {
      "provenance": []
    },
    "kernelspec": {
      "name": "python3",
      "display_name": "Python 3"
    },
    "language_info": {
      "name": "python"
    }
  },
  "cells": [
    {
      "cell_type": "code",
      "execution_count": null,
      "metadata": {
        "id": "NjbrwN2y5w-G"
      },
      "outputs": [],
      "source": [
        "import numpy as np\n",
        "import matplotlib.pyplot as plt\n",
        "\n",
        "def simular_llegadas_vehiculos(tiempo_operacion=12, tasa_llegada=1/15):\n",
        "    # Primero convertimos el tiempo de operación a minutos:\n",
        "    minutos_totales = tiempo_operacion * 60\n",
        "\n",
        "    # Generamos tiempos entre llegadas haciendo uso de la distribución exponencial:\n",
        "    tiempos_entre_llegadas = np.random.exponential(scale=1/tasa_llegada, size=1000)\n",
        "\n",
        "    # Filtramos las llegadas dentro del rango de operación del ejercicio:\n",
        "    llegadas = np.cumsum(tiempos_entre_llegadas)\n",
        "    llegadas = llegadas[llegadas <= minutos_totales]\n",
        "\n",
        "    # Mostramos los resultados\n",
        "    print(\"Número total de vehículos que llegaron en 12 horas:\", len(llegadas))\n",
        "\n",
        "    # Graficamos los tiempos entre llegadas de cada vehiculo:\n",
        "    plt.hist(tiempos_entre_llegadas, bins=30, color='lightgreen', edgecolor='black', density=True)\n",
        "    plt.xlabel('Tiempo entre llegadas (minutos)')\n",
        "    plt.ylabel('Frecuencia relativa')\n",
        "    plt.title('Distribución de tiempos entre llegadas de vehículos')\n",
        "    plt.show()\n",
        "\n",
        "# Ejecutamos la simulación:\n",
        "simular_llegadas_vehiculos()"
      ]
    }
  ]
}